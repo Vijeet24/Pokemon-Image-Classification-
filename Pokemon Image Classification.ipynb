{
 "cells": [
  {
   "cell_type": "code",
   "execution_count": 1,
   "metadata": {},
   "outputs": [],
   "source": [
    "import os \n",
    "from pathlib import Path \n",
    "from keras.preprocessing import image \n",
    "import matplotlib.pyplot as plt"
   ]
  },
  {
   "cell_type": "code",
   "execution_count": 2,
   "metadata": {},
   "outputs": [],
   "source": [
    "p = path(\"./location/\")\n",
    "\n",
    "dirs = p.glob(\"*\")\n",
    "\n",
    "image_data = []\n",
    "labels =[]\n",
    "\n",
    "image path = []\n",
    "\n",
    "label_dict = {\"pikachu\":0 , \"bulbasaur\" :1 , \"meowth\";2}\n",
    "label2pokemon  = {0:\"pikachu\" , 1:\"bulbasaur\" , 2 :\"meowth\"}\n",
    "\n",
    "\n",
    "for folder_dirs in dirs :\n",
    "    \n",
    "    label = str(folder_dirs).split('\\\\')[-1]\n",
    "    \n",
    "    cnt = 0\n",
    "    print(folder_dirs)\n",
    "    \n",
    "    \n",
    "    \n",
    "    for img_path in folder_dirs.glob(\".jpg\"):\n",
    "        img = image.load_img(img_path,target_size = (100,100))\n",
    "        image_array = image.img_to_array(img)\n",
    "        image_data.append(img_array)\n",
    "        \n",
    "        labels.append(label_dict[label])\n",
    "        cnt += 1\n",
    "    \n",
    "    print(cnt)\n",
    "    \n",
    "        \n",
    "    \n",
    "        \n",
    "        \n",
    "    "
   ]
  },
  {
   "cell_type": "code",
   "execution_count": 3,
   "metadata": {},
   "outputs": [],
   "source": [
    "import numpy as np \n",
    "\n",
    "print(len(img_data))\n",
    "print(len(labels))\n",
    "\n",
    "print(labels)"
   ]
  },
  {
   "cell_type": "code",
   "execution_count": null,
   "metadata": {},
   "outputs": [],
   "source": [
    "import seed \n",
    "random.seed(10)"
   ]
  },
  {
   "cell_type": "code",
   "execution_count": null,
   "metadata": {},
   "outputs": [],
   "source": [
    "X = np.array(image_data)\n",
    "Y = np.array(labels)\n",
    "\n",
    "\n",
    "from sklearn.utils import shuffle \n",
    "X,Y = shuffle(X,Y ,random_state =2)\n",
    "\n",
    "X = X/255.0"
   ]
  },
  {
   "cell_type": "code",
   "execution_count": null,
   "metadata": {},
   "outputs": [],
   "source": []
  },
  {
   "cell_type": "code",
   "execution_count": null,
   "metadata": {},
   "outputs": [],
   "source": [
    "def drawimg(img,label):\n",
    "    plt.title(\"label2pokemon[label]\")\n",
    "    plt.axis(\"off\")\n",
    "    plt.style.use(\"seaborn\")\n",
    "    plt.imshow(img)\n",
    "    plt.show()\n",
    "    "
   ]
  },
  {
   "cell_type": "code",
   "execution_count": null,
   "metadata": {},
   "outputs": [],
   "source": [
    "for i in range(1,20):\n",
    "    drawimg(X[i].reshape(40,40,3),Y[i])\n",
    "    "
   ]
  },
  {
   "cell_type": "code",
   "execution_count": 2,
   "metadata": {},
   "outputs": [
    {
     "ename": "NameError",
     "evalue": "name 'X' is not defined",
     "output_type": "error",
     "traceback": [
      "\u001b[1;31m---------------------------------------------------------------------------\u001b[0m",
      "\u001b[1;31mNameError\u001b[0m                                 Traceback (most recent call last)",
      "\u001b[1;32m<ipython-input-2-c646001f0533>\u001b[0m in \u001b[0;36m<module>\u001b[1;34m\u001b[0m\n\u001b[1;32m----> 1\u001b[1;33m \u001b[0msplit\u001b[0m \u001b[1;33m=\u001b[0m \u001b[0mint\u001b[0m\u001b[1;33m(\u001b[0m\u001b[0mX\u001b[0m\u001b[1;33m.\u001b[0m\u001b[0mshape\u001b[0m\u001b[1;33m[\u001b[0m\u001b[1;36m0\u001b[0m\u001b[1;33m]\u001b[0m\u001b[1;33m*\u001b[0m\u001b[1;36m0.8\u001b[0m\u001b[1;33m)\u001b[0m\u001b[1;33m\u001b[0m\u001b[1;33m\u001b[0m\u001b[0m\n\u001b[0m\u001b[0;32m      2\u001b[0m \u001b[1;33m\u001b[0m\u001b[0m\n\u001b[0;32m      3\u001b[0m \u001b[0mX_\u001b[0m \u001b[1;33m=\u001b[0m \u001b[0mnp\u001b[0m\u001b[1;33m.\u001b[0m\u001b[0marray\u001b[0m\u001b[1;33m(\u001b[0m\u001b[0mX\u001b[0m\u001b[1;33m)\u001b[0m\u001b[1;33m\u001b[0m\u001b[1;33m\u001b[0m\u001b[0m\n\u001b[0;32m      4\u001b[0m \u001b[0mY_\u001b[0m \u001b[1;33m=\u001b[0m \u001b[0mnp\u001b[0m\u001b[1;33m.\u001b[0m\u001b[0marray\u001b[0m\u001b[1;33m(\u001b[0m\u001b[0mY\u001b[0m\u001b[1;33m)\u001b[0m\u001b[1;33m\u001b[0m\u001b[1;33m\u001b[0m\u001b[0m\n\u001b[0;32m      5\u001b[0m \u001b[1;33m\u001b[0m\u001b[0m\n",
      "\u001b[1;31mNameError\u001b[0m: name 'X' is not defined"
     ]
    }
   ],
   "source": [
    "split = int(X.shape[0]*0.8)\n",
    "\n",
    "X_ = np.array(X)\n",
    "Y_ = np.array(Y)\n",
    "\n",
    "X = X_[:split, :]\n",
    "Y = Y_[:split]\n",
    "\n",
    "Xtest = X_[split:,:]\n",
    "Ytest = Y_[split:]\n",
    "\n",
    "print(X.shape,Y.shape)\n",
    "print(Xtest.shape,Ytest.shape)\n",
    "\n"
   ]
  },
  {
   "cell_type": "code",
   "execution_count": null,
   "metadata": {},
   "outputs": [],
   "source": [
    "class NueralNetwork:\n",
    "        def __init__(self , input_size , layers , output_size)\n",
    "        \n",
    "        \n",
    "        \n",
    "            np.random.seed(0)\n",
    "            W1 = np.random.randn(input_size,layer[0])\n",
    "            b1 = np.zeroes(1,layer[0])\n",
    "            \n",
    "            W2 = np.random.randn(layer[0],layer[1])\n",
    "            b2 = np.zeroes(1,layer[1])\n",
    "            \n",
    "            W3 = np.random.randn(layer[1],layer[2])\n",
    "            b3 = np.zeroes(1,layer[3])\n",
    "            \n",
    "            self.model = model\n",
    "            \n",
    "            \n",
    "        def softmax(a):\n",
    "            e_pa = np.exp(a)\n",
    "            ans = epa(a)/np.sum(ea,axis=1,keepdims=true)\n",
    "        \n",
    "            \n",
    "            \n",
    "        def forward(self,X):\n",
    "            \n",
    "            W1,W2,W3 = self.model[W1],self.model[W2],self.model[W3]\n",
    "            b1,b2,b3 = self.model[b1],self.model[b2],self.model[b3]\n",
    "            \n",
    "            z1 = np.dot(W1,X) + b1\n",
    "            a1 = np.tanh(z1)\n",
    "            \n",
    "            z2 = np.dot(W2,a1) + b2\n",
    "            a2 = np.tanh(z2)\n",
    "            \n",
    "            z3 = np.dot(W3,a2 ) + b3\n",
    "            a3 = np.softmax(z3)\n",
    "            \n",
    "            self.activation_outputs = (a1,a2,Y_)\n",
    "            return Y_\n",
    "            \n",
    "            \n",
    "            \n",
    "        def backward(self,X,Y,learning_rate =0.001):\n",
    "            \n",
    "            W1,W2,W3 = self.model[W1],self.model[W2],self.model[W3]\n",
    "            b1,b2,b3 = self.model[b1],self.model[b2],self.model[b3]\n",
    "            m  = x.shape[0]\n",
    "            \n",
    "            a1,a2,Y_ = self.activation_outputs\n",
    "            \n",
    "            \n",
    "            delta3 = Y_ - Y\n",
    "            dw3 = np.dot(a2.T,delta3)\n",
    "            db3 = np.sum(delta3,axis=0)/float(m)\n",
    "            \n",
    "            delta2 = (1 - np.square(a2))*np.dot(delta3,W3.T)\n",
    "            dw2 = np.dot(a1.T,delta2)\n",
    "            db2 = np.sum(delta2,axis=0)/float(m)\n",
    "            \n",
    "            delta1 = (1 - np.square(a1))*np.dot(delta2,W2.T)\n",
    "            dw1 = np.dot(X.T,axis=0)/float(m)\n",
    "            db2 = np.sum(delta1,axis=0)/float(m)\n",
    "            \n",
    "            \n",
    "            self.model[\"W1\"] -= learning_rate*dw1\n",
    "            self.model[\"b1\"] -= learning_rate*db1\n",
    "            \n",
    "            self.model[\"W2\"] -= learning_rate*dw2\n",
    "            self.model[\"b2\"] -= learning_rate*db2\n",
    "            \n",
    "            self.model[\"W3\"] -= learning_rate*dw3\n",
    "            self.model[\"b3\"] -= learning_rate*dw3\n",
    "        \n",
    "        \n",
    "        def predict(self,X):\n",
    "            y_out = forward(x)\n",
    "            return np.argmax(Y_out,axis=1)\n",
    "        \n",
    "        "
   ]
  },
  {
   "cell_type": "code",
   "execution_count": null,
   "metadata": {},
   "outputs": [],
   "source": [
    "def loss(Y_oht, p):\n",
    "    l = np.mean(Y_oht*np.log(p))\n",
    "    return l\n",
    "\n",
    "def one_hot(Y,depth):\n",
    "    m = Y.shape[0]\n",
    "    Y_oht = np.zeroes(m,depth)\n",
    "    Y_oht[np.arrange(m),Y] = 1\n",
    "    return Y_oht\n",
    "    "
   ]
  },
  {
   "cell_type": "code",
   "execution_count": null,
   "metadata": {},
   "outputs": [],
   "source": [
    "#train_model\n",
    "\n",
    "model = NeuralNetwork(input_size =4800 ,layers = [100,50],output_size=3)\n"
   ]
  },
  {
   "cell_type": "code",
   "execution_count": null,
   "metadata": {},
   "outputs": [],
   "source": [
    "def train(X,Y,epochs,learning_rate,logs=true):\n",
    "    \n",
    "    training_lose = []\n",
    "    classes = 2\n",
    "    \n",
    "    Y_oht = one_hot(Y,classes)\n",
    "    \n",
    "    for xi in range(epochs):\n",
    "        Y_ = model.forward(X)\n",
    "        l = loss(Y_oht, Y)\n",
    "        model.backward(X,Y,learning_rate)\n",
    "        \n",
    "        if(logs):\n",
    "            print(\"epoch %d loss %.4f\"%(xi,l))\n",
    "            \n",
    "            \n",
    "    return training_loss"
   ]
  },
  {
   "cell_type": "code",
   "execution_count": null,
   "metadata": {},
   "outputs": [],
   "source": [
    "plt.plot(loss)\n",
    "plt.xlabel(\"epochs\")\n",
    "plt.ylabel(\"loss\")\n",
    "plt.show()"
   ]
  },
  {
   "cell_type": "code",
   "execution_count": null,
   "metadata": {},
   "outputs": [],
   "source": [
    "#find_accuracy\n",
    "from visualize import plot_decission_boundary"
   ]
  },
  {
   "cell_type": "code",
   "execution_count": null,
   "metadata": {},
   "outputs": [],
   "source": [
    "plot_decission_boundary(lamda X:model.predict(X),X,Y)"
   ]
  },
  {
   "cell_type": "code",
   "execution_count": 3,
   "metadata": {},
   "outputs": [
    {
     "ename": "NameError",
     "evalue": "name 'X' is not defined",
     "output_type": "error",
     "traceback": [
      "\u001b[1;31m---------------------------------------------------------------------------\u001b[0m",
      "\u001b[1;31mNameError\u001b[0m                                 Traceback (most recent call last)",
      "\u001b[1;32m<ipython-input-3-59c1b490ddb6>\u001b[0m in \u001b[0;36m<module>\u001b[1;34m\u001b[0m\n\u001b[1;32m----> 1\u001b[1;33m \u001b[0mX\u001b[0m \u001b[1;33m=\u001b[0m \u001b[0mX\u001b[0m\u001b[1;33m.\u001b[0m\u001b[0mreshape\u001b[0m\u001b[1;33m(\u001b[0m\u001b[0mX\u001b[0m\u001b[1;33m.\u001b[0m\u001b[0mshape\u001b[0m\u001b[1;33m[\u001b[0m\u001b[1;36m0\u001b[0m\u001b[1;33m]\u001b[0m\u001b[1;33m,\u001b[0m\u001b[1;33m-\u001b[0m\u001b[1;36m1\u001b[0m\u001b[1;33m)\u001b[0m\u001b[1;33m\u001b[0m\u001b[1;33m\u001b[0m\u001b[0m\n\u001b[0m\u001b[0;32m      2\u001b[0m \u001b[0mprint\u001b[0m\u001b[1;33m(\u001b[0m\u001b[0mX\u001b[0m\u001b[1;33m.\u001b[0m\u001b[0mshape\u001b[0m\u001b[1;33m)\u001b[0m\u001b[1;33m\u001b[0m\u001b[1;33m\u001b[0m\u001b[0m\n\u001b[0;32m      3\u001b[0m \u001b[1;33m\u001b[0m\u001b[0m\n\u001b[0;32m      4\u001b[0m \u001b[0mX_test\u001b[0m \u001b[1;33m=\u001b[0m \u001b[0mX\u001b[0m\u001b[1;33m.\u001b[0m\u001b[0mreshape\u001b[0m\u001b[1;33m(\u001b[0m\u001b[0mX\u001b[0m\u001b[1;33m.\u001b[0m\u001b[0mshape\u001b[0m\u001b[1;33m[\u001b[0m\u001b[1;36m0\u001b[0m\u001b[1;33m]\u001b[0m\u001b[1;33m,\u001b[0m\u001b[1;33m-\u001b[0m\u001b[1;36m1\u001b[0m\u001b[1;33m)\u001b[0m\u001b[1;33m\u001b[0m\u001b[1;33m\u001b[0m\u001b[0m\n\u001b[0;32m      5\u001b[0m \u001b[0mprint\u001b[0m\u001b[1;33m\u001b[0m\u001b[1;33m\u001b[0m\u001b[0m\n",
      "\u001b[1;31mNameError\u001b[0m: name 'X' is not defined"
     ]
    }
   ],
   "source": [
    "X = X.reshape(X.shape[0],-1)\n",
    "print(X.shape)\n",
    "\n",
    "X_test = X.reshape(X.shape[0],-1)\n",
    "print(Xtest.shape)"
   ]
  },
  {
   "cell_type": "code",
   "execution_count": null,
   "metadata": {},
   "outputs": [],
   "source": [
    "l = train(X,Y,model,500,0.0002)"
   ]
  },
  {
   "cell_type": "code",
   "execution_count": null,
   "metadata": {},
   "outputs": [],
   "source": [
    "def get_accuracy(X,Y,model)\n",
    "    output = model.predict(X)\n",
    "    acc = np.sums(outputs==y)/y.shape[0]\n",
    "    \n",
    "    return acc\n",
    "print(\"training accuracy %.4f\"%get_accuracy(X,Y,model))\n",
    "print(\"training accuracy %.4f\"%get_accuracy(X,Y,model))\n",
    "     "
   ]
  },
  {
   "cell_type": "code",
   "execution_count": null,
   "metadata": {},
   "outputs": [],
   "source": [
    "#Classification_Report \n",
    "\n",
    "from sklearn.metrics import classification_report"
   ]
  },
  {
   "cell_type": "code",
   "execution_count": null,
   "metadata": {},
   "outputs": [],
   "source": [
    "print(classification_report(outputs,Y))"
   ]
  },
  {
   "cell_type": "code",
   "execution_count": null,
   "metadata": {},
   "outputs": [],
   "source": [
    "#confussion_matrix\n",
    "\n",
    "from sklearn.metrics import confusion_matrix"
   ]
  },
  {
   "cell_type": "code",
   "execution_count": null,
   "metadata": {},
   "outputs": [],
   "source": [
    "from visualise import plot_confusion_matrix"
   ]
  },
  {
   "cell_type": "code",
   "execution_count": null,
   "metadata": {},
   "outputs": [],
   "source": [
    "outputs = model.predicts(X)\n",
    "cfn_matrix = confussion_matrix(outputs,Y)\n",
    "print(cfn_matrix)"
   ]
  },
  {
   "cell_type": "code",
   "execution_count": null,
   "metadata": {},
   "outputs": [],
   "source": [
    "plot_confusion_matrix(cfn_matrix,classes = [\"pikachu\" , \"meowth\",\"bulbasaur\"] , title = \"confusion matrix\")"
   ]
  },
  {
   "cell_type": "code",
   "execution_count": null,
   "metadata": {},
   "outputs": [],
   "source": []
  },
  {
   "cell_type": "code",
   "execution_count": null,
   "metadata": {},
   "outputs": [],
   "source": []
  },
  {
   "cell_type": "code",
   "execution_count": null,
   "metadata": {},
   "outputs": [],
   "source": []
  },
  {
   "cell_type": "code",
   "execution_count": null,
   "metadata": {},
   "outputs": [],
   "source": []
  },
  {
   "cell_type": "code",
   "execution_count": null,
   "metadata": {},
   "outputs": [],
   "source": []
  },
  {
   "cell_type": "code",
   "execution_count": null,
   "metadata": {},
   "outputs": [],
   "source": []
  },
  {
   "cell_type": "code",
   "execution_count": null,
   "metadata": {},
   "outputs": [],
   "source": []
  },
  {
   "cell_type": "code",
   "execution_count": null,
   "metadata": {},
   "outputs": [],
   "source": []
  }
 ],
 "metadata": {
  "kernelspec": {
   "display_name": "Python 3",
   "language": "python",
   "name": "python3"
  },
  "language_info": {
   "codemirror_mode": {
    "name": "ipython",
    "version": 3
   },
   "file_extension": ".py",
   "mimetype": "text/x-python",
   "name": "python",
   "nbconvert_exporter": "python",
   "pygments_lexer": "ipython3",
   "version": "3.8.5"
  }
 },
 "nbformat": 4,
 "nbformat_minor": 4
}
